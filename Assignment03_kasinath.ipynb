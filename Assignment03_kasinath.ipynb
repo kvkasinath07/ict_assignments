{
  "nbformat": 4,
  "nbformat_minor": 0,
  "metadata": {
    "colab": {
      "provenance": [],
      "authorship_tag": "ABX9TyNV7+QY5Xtt8Prvc1JuNj4f",
      "include_colab_link": true
    },
    "kernelspec": {
      "name": "python3",
      "display_name": "Python 3"
    },
    "language_info": {
      "name": "python"
    }
  },
  "cells": [
    {
      "cell_type": "markdown",
      "metadata": {
        "id": "view-in-github",
        "colab_type": "text"
      },
      "source": [
        "<a href=\"https://colab.research.google.com/github/kvkasinath07/ict_assignments/blob/main/Assignment03_kasinath.ipynb\" target=\"_parent\"><img src=\"https://colab.research.google.com/assets/colab-badge.svg\" alt=\"Open In Colab\"/></a>"
      ]
    },
    {
      "cell_type": "code",
      "execution_count": 1,
      "metadata": {
        "colab": {
          "base_uri": "https://localhost:8080/"
        },
        "id": "Wn76LIe9iXpd",
        "outputId": "a51dcd3c-e431-4418-eb08-9746f2e56f4d"
      },
      "outputs": [
        {
          "output_type": "stream",
          "name": "stdout",
          "text": [
            "Enter the first number:1\n",
            "Enter the second number:2\n",
            "Enter the third number:3\n",
            "3 is the largest number given by you\n"
          ]
        }
      ],
      "source": [
        "#1\n",
        "a = int(input(\"Enter the first number:\"))\n",
        "b = int(input(\"Enter the second number:\"))\n",
        "c = int(input(\"Enter the third number:\"))\n",
        "l = max(a,b,c)\n",
        "print(l,'is the largest number given by you')"
      ]
    },
    {
      "cell_type": "code",
      "source": [
        "#2\n",
        "def sum_list(numbers):\n",
        "    return sum(numbers)\n",
        "list2 = [18, 12, 30, 10, 7]\n",
        "\n",
        "result = sum_list(list2)\n",
        "print(\"Sum of the list:\", result)\n"
      ],
      "metadata": {
        "colab": {
          "base_uri": "https://localhost:8080/"
        },
        "id": "7o82EHeAkxQj",
        "outputId": "288327cf-f33d-4d93-a204-26995e1c77b1"
      },
      "execution_count": 4,
      "outputs": [
        {
          "output_type": "stream",
          "name": "stdout",
          "text": [
            "Sum of the list: 77\n"
          ]
        }
      ]
    },
    {
      "cell_type": "code",
      "source": [
        "'''\n",
        "Python program to insert a number to any position in a list (Get the number\n",
        "to be inserted and position from the user)\n",
        "'''\n",
        "num = int(input(\"Enter the number:\"))\n",
        "pos = int(input(\"Enter the position the number to be uploaded:\"))\n",
        "\n",
        "list3 = [1,2,3,4,5,6,7,8,9,0]\n",
        "list3.insert(pos,num)\n",
        "print(list3)\n"
      ],
      "metadata": {
        "colab": {
          "base_uri": "https://localhost:8080/"
        },
        "id": "ZxM7nTdImvlw",
        "outputId": "eb80ef8d-d7d9-4b00-e2eb-c05e6e1550cc"
      },
      "execution_count": 6,
      "outputs": [
        {
          "output_type": "stream",
          "name": "stdout",
          "text": [
            "Enter the number:4\n",
            "Enter the position the number to be uploaded:3\n",
            "[1, 2, 3, 4, 4, 5, 6, 7, 8, 9, 0]\n"
          ]
        }
      ]
    },
    {
      "cell_type": "code",
      "source": [
        "'''\n",
        "Write a program to rename a key city to a location in the following dictionary.\n",
        "sample_dict = { \"name\": \"Kelly\", \"age\":25, \"salary\": 8000, \"city\": \"New york\"}\n",
        "'''\n",
        "sample = {\"name\":\"Kelly\", \"age\":25, \"salary\": 8000, \"city\": \"New york\"}\n",
        "place = input(\"Enter the place:\")\n",
        "sample.update({\"city\":place})\n",
        "print(sample)"
      ],
      "metadata": {
        "colab": {
          "base_uri": "https://localhost:8080/"
        },
        "id": "JOz--1o-nk84",
        "outputId": "6a624bd0-df1e-455f-850c-d2edc6e0895e"
      },
      "execution_count": 8,
      "outputs": [
        {
          "output_type": "stream",
          "name": "stdout",
          "text": [
            "Enter the place:manhattan\n",
            "{'name': 'Kelly', 'age': 25, 'salary': 8000, 'city': 'manhattan'}\n"
          ]
        }
      ]
    },
    {
      "cell_type": "code",
      "source": [
        "'''Write a Python program to change Brad’s salary to 8500 in the following\n",
        "dictionary.\n",
        "sample_dict = {\n",
        " 'emp1': {'name': 'Jhon', 'salary': 7500},\n",
        " 'emp2': {'name': 'Emma', 'salary': 8000},\n",
        " 'emp3': {'name': 'Brad', 'salary': 500}\n",
        " '''\n",
        "\n",
        "sample2 = {\n",
        "     'emp1': {'name': 'Jhon', 'salary': 7500},\n",
        "     'emp2': {'name': 'emma', 'salary': 8000},\n",
        "     'emp3': {'name': 'Brad', 'salary': 500}\n",
        " }\n",
        "sample2['emp3']['salary'] = 8500\n",
        "print(sample2)"
      ],
      "metadata": {
        "colab": {
          "base_uri": "https://localhost:8080/"
        },
        "id": "an8zOR0aoSd2",
        "outputId": "286210cb-d606-4f1b-e3dc-40e9a5e81974"
      },
      "execution_count": 11,
      "outputs": [
        {
          "output_type": "stream",
          "name": "stdout",
          "text": [
            "{'emp1': {'name': 'Jhon', 'salary': 7500}, 'emp2': {'name': 'emma', 'salary': 8000}, 'emp3': {'name': 'Brad', 'salary': 8500}}\n"
          ]
        }
      ]
    },
    {
      "cell_type": "code",
      "source": [
        "'''\n",
        "Write a program to copy elements 44 and 55 from the following tuple into a\n",
        "new tuple. Given: tuple1 = (11, 22, 33, 44, 55, 66)\n",
        "'''\n",
        "tuple1 = (11,22,33,44,55,66)\n",
        "tuple2 = tuple1[3:5]\n",
        "print(tuple2)"
      ],
      "metadata": {
        "colab": {
          "base_uri": "https://localhost:8080/"
        },
        "id": "JIZXEAH1pF8t",
        "outputId": "f4163602-bda2-4392-b173-ba56dccfa45a"
      },
      "execution_count": 13,
      "outputs": [
        {
          "output_type": "stream",
          "name": "stdout",
          "text": [
            "(44, 55)\n"
          ]
        }
      ]
    },
    {
      "cell_type": "code",
      "source": [
        "'''\n",
        "Counts the number of occurrences of item 50 from a tuple tuple1 = (50, 10,\n",
        "60, 70, 50,83,567,50,81\n",
        "'''\n",
        "tuple3 = (50,10,60,70,50,83,567,50,81)\n",
        "tuple3.count(50)"
      ],
      "metadata": {
        "colab": {
          "base_uri": "https://localhost:8080/"
        },
        "id": "oLzb6iL8phMd",
        "outputId": "18f04b80-a560-41d5-fb7b-ea877afbc911"
      },
      "execution_count": 14,
      "outputs": [
        {
          "output_type": "execute_result",
          "data": {
            "text/plain": [
              "3"
            ]
          },
          "metadata": {},
          "execution_count": 14
        }
      ]
    }
  ]
}