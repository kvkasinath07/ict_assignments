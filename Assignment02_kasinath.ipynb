{
  "nbformat": 4,
  "nbformat_minor": 0,
  "metadata": {
    "colab": {
      "provenance": [],
      "authorship_tag": "ABX9TyM9oWYWl34rQ3df5DKeyopk",
      "include_colab_link": true
    },
    "kernelspec": {
      "name": "python3",
      "display_name": "Python 3"
    },
    "language_info": {
      "name": "python"
    }
  },
  "cells": [
    {
      "cell_type": "markdown",
      "metadata": {
        "id": "view-in-github",
        "colab_type": "text"
      },
      "source": [
        "<a href=\"https://colab.research.google.com/github/kvkasinath07/ict_assignments/blob/main/Assignment02_kasinath.ipynb\" target=\"_parent\"><img src=\"https://colab.research.google.com/assets/colab-badge.svg\" alt=\"Open In Colab\"/></a>"
      ]
    },
    {
      "cell_type": "code",
      "execution_count": 7,
      "metadata": {
        "colab": {
          "base_uri": "https://localhost:8080/"
        },
        "id": "cNlhN4di_6jQ",
        "outputId": "e078a374-3104-4936-b868-7745c9e4360d"
      },
      "outputs": [
        {
          "output_type": "stream",
          "name": "stdout",
          "text": [
            "Enter a number between 1 to 100:50\n",
            "Buzz\n"
          ]
        }
      ],
      "source": [
        "'''\n",
        "For a given range of numbers (e.g., 1 to 100), print \"Fizz\" if the number is\n",
        "divisible by 3, \"Buzz\" if it's divisible by 5, and \"FizzBuzz\" if it's divisible by both. Otherwise,\n",
        "print the number itself\n",
        "'''\n",
        "num = int(input(\"Enter a number between 1 to 100:\"))\n",
        "for i in range(0,101):\n",
        "  if num%3 == 0 and num%5 == 0:\n",
        "    print(\"FizzBuzz\")\n",
        "    break\n",
        "  elif num%3 == 0:\n",
        "    print(\"Fizz\")\n",
        "    break\n",
        "  elif num%5 == 0:\n",
        "    print(\"Buzz\")\n",
        "    break\n",
        "  else:\n",
        "    print(\"Not divisible\")\n",
        "    break"
      ]
    },
    {
      "cell_type": "code",
      "source": [
        "'''\n",
        "Electricity Bill calculator\n",
        "Create a bill calculator where the user enters the number of units consumed. ₹5 per\n",
        "unit for the first 100 units ₹7 per unit for the next 100 units (from 101 to 200) ₹10 per\n",
        "unit for any units above 200 Calculate and display the total electricity bill.\n",
        "Sample Input:\n",
        "Enter units consumed: 245\n",
        "Sample Output:\n",
        "Total Bill Amount: ₹1650\n",
        "'''\n",
        "units = int(input(\"Enter the units consumed:\"))\n",
        "if units <= 100:\n",
        "  total_bill = units*5\n",
        "  print(total_bill)\n",
        "elif units <= 200 and units >=100:\n",
        "  total_bill = (100*5)+((units-100)*7)\n",
        "  print(total_bill)\n",
        "elif units >200:\n",
        "  total_bill = (100*5)+((units-100)*7)+((units-200)*10)\n",
        "  print(total_bill)\n",
        "else:\n",
        "   print(\"Not available\")"
      ],
      "metadata": {
        "colab": {
          "base_uri": "https://localhost:8080/"
        },
        "id": "py6njWLMB_Qj",
        "outputId": "6a511218-6439-47fc-d4ca-d96010c818aa"
      },
      "execution_count": 15,
      "outputs": [
        {
          "output_type": "stream",
          "name": "stdout",
          "text": [
            "Enter the units consumed:50\n",
            "250\n"
          ]
        }
      ]
    },
    {
      "cell_type": "code",
      "source": [
        "'''\n",
        "Display a pattern for a simple progress indicator.\n",
        "*\n",
        "**\n",
        "***\n",
        "****\n",
        "*****\n",
        "'''\n",
        "sym = '*'\n",
        "for i in range(5):\n",
        "  print(sym)\n",
        "  sym = sym + '*'"
      ],
      "metadata": {
        "colab": {
          "base_uri": "https://localhost:8080/"
        },
        "id": "IalUTt1HHL_c",
        "outputId": "8812eb50-64e2-4705-d420-40715d583fe4"
      },
      "execution_count": 18,
      "outputs": [
        {
          "output_type": "stream",
          "name": "stdout",
          "text": [
            "*\n",
            "**\n",
            "***\n",
            "****\n",
            "*****\n"
          ]
        }
      ]
    },
    {
      "cell_type": "code",
      "source": [
        "'''Palindrome\n",
        "Develop a Python program that checks whether a given word or phrase is a\n",
        "palindrome.\n",
        "Sample input\n",
        "Enter num or string to be checked = 121\n",
        "Sample Output\n",
        "Given num/string is Palindrome\n",
        "'''\n",
        "pal = str(input(\"Enter a number or string:\"))\n",
        "rev_pal = pal[::-1]\n",
        "\n",
        "if rev_pal == pal:\n",
        "  print(pal,\"is a palindrome\")\n",
        "else:\n",
        "  print(pal,\"is not a palindrome\")"
      ],
      "metadata": {
        "colab": {
          "base_uri": "https://localhost:8080/"
        },
        "id": "xxxsaz-EJeKJ",
        "outputId": "9ea50f7f-0834-4342-a892-6c880a8c974c"
      },
      "execution_count": 22,
      "outputs": [
        {
          "output_type": "stream",
          "name": "stdout",
          "text": [
            "Enter a number or string:434\n",
            "434 is a palindrome\n"
          ]
        }
      ]
    }
  ]
}