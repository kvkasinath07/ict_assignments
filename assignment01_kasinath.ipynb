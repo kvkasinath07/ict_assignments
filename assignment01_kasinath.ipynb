{
  "nbformat": 4,
  "nbformat_minor": 0,
  "metadata": {
    "colab": {
      "provenance": [],
      "authorship_tag": "ABX9TyNXabJ/mZDdPRTVNGwTC5Vs",
      "include_colab_link": true
    },
    "kernelspec": {
      "name": "python3",
      "display_name": "Python 3"
    },
    "language_info": {
      "name": "python"
    }
  },
  "cells": [
    {
      "cell_type": "markdown",
      "metadata": {
        "id": "view-in-github",
        "colab_type": "text"
      },
      "source": [
        "<a href=\"https://colab.research.google.com/github/kvkasinath07/ict_assignments/blob/main/assignment01_kasinath.ipynb\" target=\"_parent\"><img src=\"https://colab.research.google.com/assets/colab-badge.svg\" alt=\"Open In Colab\"/></a>"
      ]
    },
    {
      "cell_type": "code",
      "execution_count": null,
      "metadata": {
        "colab": {
          "base_uri": "https://localhost:8080/"
        },
        "id": "zBN9hYdrVRp0",
        "outputId": "5ddf1391-ca42-4ac5-dd01-481f7ff3ebcc"
      },
      "outputs": [
        {
          "output_type": "stream",
          "name": "stdout",
          "text": [
            "Grocery Billing\n",
            "amount of Item 1:45\n",
            "quantity:3\n",
            "amount of item 2:30\n",
            "Quantity:2\n",
            "195.0\n"
          ]
        }
      ],
      "source": [
        "#1\n",
        "\n",
        "print(\"Grocery Billing\")\n",
        "item_1 = float(input(\"amount of Item 1:\"))\n",
        "q1 = float(input(\"quantity:\"))\n",
        "item_2 = float(input(\"amount of item 2:\"))\n",
        "q2 = float(input(\"Quantity:\"))\n",
        "quantity_1 = item_1 * q1\n",
        "quantity_2 = item_2* q2\n",
        "\n",
        "total_bill = quantity_1 + quantity_2\n",
        "print(total_bill)\n"
      ]
    },
    {
      "cell_type": "code",
      "source": [
        "#2\n",
        "\n",
        "print(\"Temprature conversion\")\n",
        "cel = float(input(\"Enter temprature in celsius:\"))\n",
        "faren = (cel*9/5)+32\n",
        "print(faren)"
      ],
      "metadata": {
        "colab": {
          "base_uri": "https://localhost:8080/"
        },
        "id": "8AHzEg7VX5na",
        "outputId": "8260ca0a-975e-4667-b008-65f280727efa"
      },
      "execution_count": null,
      "outputs": [
        {
          "output_type": "stream",
          "name": "stdout",
          "text": [
            "Temprature conversion\n",
            "Enter temprature in celsius:30\n",
            "86.0\n"
          ]
        }
      ]
    },
    {
      "cell_type": "code",
      "source": [
        "#3\n",
        "\n",
        "salary = int(input(\"Enter your salary:\"))\n",
        "salary_hra = salary*20/100\n",
        "salary_d = salary*10/100 +salary +salary_hra\n",
        "print(salary_d)"
      ],
      "metadata": {
        "colab": {
          "base_uri": "https://localhost:8080/"
        },
        "id": "RKuDksPWYtZB",
        "outputId": "f55fcdd2-a962-466f-821a-7b16711166e6"
      },
      "execution_count": null,
      "outputs": [
        {
          "output_type": "stream",
          "name": "stdout",
          "text": [
            "Enter your salary:20000\n",
            "26000.0\n"
          ]
        }
      ]
    },
    {
      "cell_type": "code",
      "source": [
        "#4\n",
        "\n",
        "print(\"Intrest Calculator\")\n",
        "p = int(input(\"Enter principal:\"))\n",
        "r = float(input('Enter Rate of intrest:'))\n",
        "t = int(input(\"Time(in years):\"))\n",
        "\n",
        "si = (p*r*t)/100\n",
        "print(si)\n"
      ],
      "metadata": {
        "colab": {
          "base_uri": "https://localhost:8080/"
        },
        "id": "dVOQTa-lcHd9",
        "outputId": "fbc1d882-f82e-4c53-ff6e-c5173a469f7d"
      },
      "execution_count": null,
      "outputs": [
        {
          "output_type": "stream",
          "name": "stdout",
          "text": [
            "Intrest Calculator\n",
            "Enter principal:10000\n",
            "Enter Rate of intrest:5\n",
            "Time(in years):2\n",
            "1000.0\n"
          ]
        }
      ]
    },
    {
      "cell_type": "code",
      "source": [
        "#5\n",
        "\n",
        "print(\"Time conversion\")\n",
        "minutes = float(input(\"Enter total input:\"))\n",
        "hours = minutes/60\n",
        "print(hours)"
      ],
      "metadata": {
        "id": "fUbZfQtYfOBa",
        "colab": {
          "base_uri": "https://localhost:8080/"
        },
        "outputId": "a3094ed9-f217-4c84-c273-cff16b0cae7b"
      },
      "execution_count": null,
      "outputs": [
        {
          "output_type": "stream",
          "name": "stdout",
          "text": [
            "Time conversion\n",
            "Enter total input:130\n",
            "2.1666666666666665\n"
          ]
        }
      ]
    },
    {
      "cell_type": "code",
      "source": [
        "#6\n",
        "\n",
        "print('BMI Calculator')\n",
        "weight = int(input(\"Enter weight(in kg):\"))\n",
        "Height = float(input(\"Enter height(in mtr):\"))\n",
        "\n",
        "bmi = weight / (Height*Height)\n",
        "print('Your bmi is',bmi)\n"
      ],
      "metadata": {
        "colab": {
          "base_uri": "https://localhost:8080/"
        },
        "id": "AqJtpGFlgeWp",
        "outputId": "5ef82367-5ff4-49ac-d654-059bc64b7d66"
      },
      "execution_count": null,
      "outputs": [
        {
          "output_type": "stream",
          "name": "stdout",
          "text": [
            "BMI Calculator\n",
            "Enter weight(in kg):60\n",
            "Enter height(in mtr):1.65\n",
            "Your bmi is 22.03856749311295\n"
          ]
        }
      ]
    },
    {
      "cell_type": "code",
      "source": [
        "#7\n",
        "\n",
        "print(\"Discount calculator\")\n",
        "ogprice = int(input(\"Enter the price:\"))\n",
        "dis = ogprice - ogprice * 10/100\n",
        "print(dis)"
      ],
      "metadata": {
        "colab": {
          "base_uri": "https://localhost:8080/"
        },
        "id": "CtVk5kosiRuP",
        "outputId": "d1edd872-11ad-46b7-895d-48112a978d57"
      },
      "execution_count": null,
      "outputs": [
        {
          "output_type": "stream",
          "name": "stdout",
          "text": [
            "Discount calculator\n",
            "Enter the price:1200\n",
            "1080.0\n"
          ]
        }
      ]
    },
    {
      "cell_type": "code",
      "source": [
        "#8\n",
        "\n",
        "import math\n",
        "print(\"Triangle area calculator\")+\n",
        "a = float(input(\"Enter side A:\"))\n",
        "b = float(input(\"Enter side b:\"))\n",
        "c = float(input(\"Enter side c:\"))\n",
        "\n",
        "s = (a + b + c)/2\n",
        "area = math.sqrt(s*(s-a)*(s-b)*(s-c))\n",
        "print(area)\n",
        "\n"
      ],
      "metadata": {
        "colab": {
          "base_uri": "https://localhost:8080/"
        },
        "id": "Ls1Qo0sU3ehK",
        "outputId": "bfbd4fa8-bb62-4145-90d5-c6e757559712"
      },
      "execution_count": null,
      "outputs": [
        {
          "output_type": "stream",
          "name": "stdout",
          "text": [
            "Triangle area calculator\n",
            "Enter side A:3\n",
            "Enter side b:4\n",
            "Enter side c:5\n",
            "6.0\n"
          ]
        }
      ]
    },
    {
      "cell_type": "code",
      "source": [
        "#9\n",
        "\n",
        "print(\"Paint Cost Estimator\")\n",
        "l = float(input(\"Enter length of the wall:\"))\n",
        "b = float(input(\"Enter breadth of the wall:\"))\n",
        "area = l * b\n",
        "area_w = 2*(1.5 * 1.2)\n",
        "paint = area - area_w\n",
        "print(paint,\"sq.m\")\n",
        "cost = paint * 25\n",
        "print(cost)"
      ],
      "metadata": {
        "colab": {
          "base_uri": "https://localhost:8080/"
        },
        "id": "1F1BHnKf4MDK",
        "outputId": "2b661749-934d-4167-9214-abbfcc8a0720"
      },
      "execution_count": null,
      "outputs": [
        {
          "output_type": "stream",
          "name": "stdout",
          "text": [
            "Paint Cost Estimator\n",
            "Enter length of the wall:12\n",
            "Enter breadth of the wall:8\n",
            "92.4 sq.m\n",
            "2310.0\n"
          ]
        }
      ]
    },
    {
      "cell_type": "code",
      "source": [
        "#10\n",
        "\n",
        "print(\"Electricity bill calculator\")\n",
        "unit = int(input(\"Enter the number of units consumed:\"))\n",
        "cost = unit * 5.2\n",
        "print(\"The electricity bill is\",cost)\n",
        "total = cost + 100\n",
        "print(\"The total bill with fixed charge is\",total)"
      ],
      "metadata": {
        "colab": {
          "base_uri": "https://localhost:8080/"
        },
        "id": "0ziUpa178xy8",
        "outputId": "863f08a3-168f-417a-e668-d449506bf166"
      },
      "execution_count": null,
      "outputs": [
        {
          "output_type": "stream",
          "name": "stdout",
          "text": [
            "Electricity bill calculator\n",
            "Enter the number of units consumed:300\n",
            "The electricity bill is 1560.0\n",
            "The total bill with fixed charge is 1660.0\n"
          ]
        }
      ]
    }
  ]
}